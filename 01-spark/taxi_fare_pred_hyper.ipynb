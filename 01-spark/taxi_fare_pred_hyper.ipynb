{
 "cells": [
  {
   "cell_type": "code",
   "execution_count": 1,
   "id": "566ece3f",
   "metadata": {},
   "outputs": [],
   "source": [
    "from pyspark.sql import SparkSession"
   ]
  },
  {
   "cell_type": "code",
   "execution_count": 2,
   "id": "4f75e9e2",
   "metadata": {},
   "outputs": [],
   "source": [
    "MAX_MEMORY=\"5g\"\n",
    "spark = SparkSession.builder.appName(\"taxi_fare_pred\")\\\n",
    "        .config(\"spark.executor.memory\", MAX_MEMORY)\\\n",
    "        .config(\"spark.driver.memory\", MAX_MEMORY)\\\n",
    "        .getOrCreate()"
   ]
  },
  {
   "cell_type": "code",
   "execution_count": 3,
   "id": "7813561a",
   "metadata": {},
   "outputs": [],
   "source": [
    "data_dir = \"/Users/ji/data-engineering/01-spark/data/\""
   ]
  },
  {
   "cell_type": "code",
   "execution_count": 4,
   "id": "b4dd76ef",
   "metadata": {},
   "outputs": [
    {
     "name": "stderr",
     "output_type": "stream",
     "text": [
      "\r",
      "[Stage 0:>                                                          (0 + 1) / 1]\r",
      "\r",
      "                                                                                \r"
     ]
    }
   ],
   "source": [
    "train_df = spark.read.parquet(f\"{data_dir}/train/\")\n",
    "test_df = spark.read.parquet(f\"{data_dir}/test/\")"
   ]
  },
  {
   "cell_type": "code",
   "execution_count": 8,
   "id": "84efcd5f",
   "metadata": {},
   "outputs": [],
   "source": [
    "toy_df = train_df.sample(False, 0.1, seed=1)"
   ]
  },
  {
   "cell_type": "code",
   "execution_count": 9,
   "id": "9ce3c25d",
   "metadata": {},
   "outputs": [
    {
     "name": "stdout",
     "output_type": "stream",
     "text": [
      "root\n",
      " |-- passenger_count: double (nullable = true)\n",
      " |-- pickup_location_id: long (nullable = true)\n",
      " |-- dropoff_location_id: long (nullable = true)\n",
      " |-- trip_distance: double (nullable = true)\n",
      " |-- pickup_time: integer (nullable = true)\n",
      " |-- day_of_week: string (nullable = true)\n",
      " |-- total_amount: double (nullable = true)\n",
      "\n"
     ]
    }
   ],
   "source": [
    "train_df.printSchema()"
   ]
  },
  {
   "cell_type": "code",
   "execution_count": 10,
   "id": "fa660d1d",
   "metadata": {},
   "outputs": [],
   "source": [
    "from pyspark.ml.feature import OneHotEncoder, StringIndexer\n",
    "\n",
    "cat_feats = [\n",
    "    \"pickup_location_id\",\n",
    "    \"dropoff_location_id\",\n",
    "    \"day_of_week\"\n",
    "]\n",
    "\n",
    "stages = []\n",
    "\n",
    "for c in cat_feats:\n",
    "    cat_indexer = StringIndexer(inputCol=c, outputCol=c + \"_idx\").setHandleInvalid('keep')\n",
    "    onehot_encoder = OneHotEncoder(inputCols=[cat_indexer.getOutputCol()], outputCols=[c+\"_onehot\"])\n",
    "    stages += [cat_indexer, onehot_encoder]"
   ]
  },
  {
   "cell_type": "code",
   "execution_count": 11,
   "id": "65bc9561",
   "metadata": {},
   "outputs": [],
   "source": [
    "from pyspark.ml.feature import VectorAssembler, StandardScaler\n",
    "\n",
    "num_feats = [\n",
    "    \"passenger_count\",\n",
    "    \"trip_distance\",\n",
    "    \"pickup_time\"\n",
    "]\n",
    "\n",
    "for n in num_feats:\n",
    "    num_assembler = VectorAssembler(inputCols=[n], outputCol = n+\"_vector\")\n",
    "    num_scaler = StandardScaler(inputCol=num_assembler.getOutputCol(), outputCol=n+\"_scaled\")\n",
    "    stages += [num_assembler, num_scaler]"
   ]
  },
  {
   "cell_type": "code",
   "execution_count": 12,
   "id": "653158ca",
   "metadata": {},
   "outputs": [],
   "source": [
    "assembler_inputs = [c+\"_onehot\" for c in cat_feats] + [n+\"_scaled\" for n in num_feats]\n",
    "assembler = VectorAssembler(inputCols=assembler_inputs, outputCol='feature_vector')\n",
    "stages += [assembler]"
   ]
  },
  {
   "cell_type": "markdown",
   "id": "f5da1739",
   "metadata": {},
   "source": [
    "## Hyperparameter Tuning"
   ]
  },
  {
   "cell_type": "code",
   "execution_count": 14,
   "id": "92bca7dd",
   "metadata": {},
   "outputs": [],
   "source": [
    "from pyspark.ml import Pipeline\n",
    "from pyspark.ml.regression import LinearRegression\n",
    "from pyspark.ml.tuning import CrossValidator, ParamGridBuilder\n",
    "from pyspark.ml.evaluation import RegressionEvaluator\n",
    "\n",
    "lr = LinearRegression(\n",
    "    maxIter=30,\n",
    "    solver=\"normal\",\n",
    "    labelCol=\"total_amount\",\n",
    "    featuresCol=\"feature_vector\"\n",
    ")\n",
    "\n",
    "cv_stages = stages + [lr]"
   ]
  },
  {
   "cell_type": "code",
   "execution_count": 15,
   "id": "93a32df6",
   "metadata": {},
   "outputs": [],
   "source": [
    "cv_pipeline = Pipeline(stages=cv_stages)"
   ]
  },
  {
   "cell_type": "code",
   "execution_count": 16,
   "id": "dadc0ac3",
   "metadata": {},
   "outputs": [],
   "source": [
    "param_grid = ParamGridBuilder()\\\n",
    "                .addGrid(lr.elasticNetParam, [0.1,0.2,0.3,0.4,0.5])\\\n",
    "                .addGrid(lr.regParam, [0.01,0.02,0.03,0.04,0.05])\\\n",
    "                .build()"
   ]
  },
  {
   "cell_type": "code",
   "execution_count": 17,
   "id": "c553aef9",
   "metadata": {},
   "outputs": [],
   "source": [
    "cross_val = CrossValidator(estimator=cv_pipeline,\n",
    "                          estimatorParamMaps=param_grid,\n",
    "                          evaluator=RegressionEvaluator(labelCol=\"total_amount\"),\n",
    "                          numFolds=5)"
   ]
  },
  {
   "cell_type": "code",
   "execution_count": 18,
   "id": "90dac042",
   "metadata": {
    "scrolled": true
   },
   "outputs": [
    {
     "name": "stderr",
     "output_type": "stream",
     "text": [
      "22/06/14 00:35:44 WARN InstanceBuilder$NativeBLAS: Failed to load implementation from:dev.ludovic.netlib.blas.JNIBLAS\n",
      "22/06/14 00:35:44 WARN InstanceBuilder$NativeBLAS: Failed to load implementation from:dev.ludovic.netlib.blas.ForeignLinkerBLAS\n",
      "22/06/14 00:35:46 WARN BLAS: Failed to load implementation from: com.github.fommil.netlib.NativeSystemBLAS\n",
      "22/06/14 00:35:46 WARN BLAS: Failed to load implementation from: com.github.fommil.netlib.NativeRefBLAS\n",
      "                                                                                \r"
     ]
    }
   ],
   "source": [
    "cv_model = cross_val.fit(toy_df)"
   ]
  },
  {
   "cell_type": "code",
   "execution_count": 24,
   "id": "ddd3165a",
   "metadata": {},
   "outputs": [],
   "source": [
    "alpha = cv_model.bestModel.stages[-1]._java_obj.getElasticNetParam()\n",
    "reg_param = cv_model.bestModel.stages[-1]._java_obj.getRegParam()"
   ]
  },
  {
   "cell_type": "markdown",
   "id": "8f8edfb5",
   "metadata": {},
   "source": [
    "## Train"
   ]
  },
  {
   "cell_type": "code",
   "execution_count": 25,
   "id": "48e4461a",
   "metadata": {},
   "outputs": [
    {
     "name": "stderr",
     "output_type": "stream",
     "text": [
      "                                                                                \r"
     ]
    }
   ],
   "source": [
    "transform_stages = stages\n",
    "pipeline = Pipeline(stages=transform_stages)\n",
    "fitted_transformer = pipeline.fit(train_df)"
   ]
  },
  {
   "cell_type": "code",
   "execution_count": 26,
   "id": "64c40208",
   "metadata": {},
   "outputs": [],
   "source": [
    "vtrain_df = fitted_transformer.transform(train_df)"
   ]
  },
  {
   "cell_type": "code",
   "execution_count": 27,
   "id": "3b06a66a",
   "metadata": {},
   "outputs": [],
   "source": [
    "lr = LinearRegression(\n",
    "    maxIter=5,\n",
    "    solver = \"normal\",\n",
    "    labelCol=\"total_amount\",\n",
    "    featuresCol = \"feature_vector\",\n",
    "    elasticNetParam=alpha,\n",
    "    regParam=reg_param\n",
    ")"
   ]
  },
  {
   "cell_type": "code",
   "execution_count": 28,
   "id": "a5d364b0",
   "metadata": {},
   "outputs": [
    {
     "name": "stdout",
     "output_type": "stream",
     "text": [
      "root\n",
      " |-- passenger_count: double (nullable = true)\n",
      " |-- pickup_location_id: long (nullable = true)\n",
      " |-- dropoff_location_id: long (nullable = true)\n",
      " |-- trip_distance: double (nullable = true)\n",
      " |-- pickup_time: integer (nullable = true)\n",
      " |-- day_of_week: string (nullable = true)\n",
      " |-- total_amount: double (nullable = true)\n",
      " |-- pickup_location_id_idx: double (nullable = false)\n",
      " |-- pickup_location_id_onehot: vector (nullable = true)\n",
      " |-- dropoff_location_id_idx: double (nullable = false)\n",
      " |-- dropoff_location_id_onehot: vector (nullable = true)\n",
      " |-- day_of_week_idx: double (nullable = false)\n",
      " |-- day_of_week_onehot: vector (nullable = true)\n",
      " |-- passenger_count_vector: vector (nullable = true)\n",
      " |-- passenger_count_scaled: vector (nullable = true)\n",
      " |-- trip_distance_vector: vector (nullable = true)\n",
      " |-- trip_distance_scaled: vector (nullable = true)\n",
      " |-- pickup_time_vector: vector (nullable = true)\n",
      " |-- pickup_time_scaled: vector (nullable = true)\n",
      " |-- feature_vector: vector (nullable = true)\n",
      "\n"
     ]
    }
   ],
   "source": [
    "vtrain_df.printSchema()"
   ]
  },
  {
   "cell_type": "code",
   "execution_count": 29,
   "id": "b4c4e6a6",
   "metadata": {},
   "outputs": [
    {
     "name": "stderr",
     "output_type": "stream",
     "text": [
      "                                                                                \r"
     ]
    }
   ],
   "source": [
    "model = lr.fit(vtrain_df)"
   ]
  },
  {
   "cell_type": "code",
   "execution_count": 30,
   "id": "cc3a3d65",
   "metadata": {},
   "outputs": [],
   "source": [
    "vtest_df = fitted_transformer.transform(test_df)"
   ]
  },
  {
   "cell_type": "code",
   "execution_count": 31,
   "id": "d371793d",
   "metadata": {},
   "outputs": [],
   "source": [
    "pred = model.transform(vtest_df)"
   ]
  },
  {
   "cell_type": "code",
   "execution_count": 32,
   "id": "9e7a39bb",
   "metadata": {},
   "outputs": [
    {
     "data": {
      "text/plain": [
       "DataFrame[passenger_count: double, pickup_location_id: bigint, dropoff_location_id: bigint, trip_distance: double, pickup_time: int, day_of_week: string, total_amount: double, pickup_location_id_idx: double, pickup_location_id_onehot: vector, dropoff_location_id_idx: double, dropoff_location_id_onehot: vector, day_of_week_idx: double, day_of_week_onehot: vector, passenger_count_vector: vector, passenger_count_scaled: vector, trip_distance_vector: vector, trip_distance_scaled: vector, pickup_time_vector: vector, pickup_time_scaled: vector, feature_vector: vector, prediction: double]"
      ]
     },
     "execution_count": 32,
     "metadata": {},
     "output_type": "execute_result"
    }
   ],
   "source": [
    "pred.cache()"
   ]
  },
  {
   "cell_type": "code",
   "execution_count": 33,
   "id": "6ceebacf",
   "metadata": {},
   "outputs": [
    {
     "name": "stderr",
     "output_type": "stream",
     "text": [
      "\r",
      "[Stage 3046:>                                                       (0 + 1) / 1]\r"
     ]
    },
    {
     "name": "stdout",
     "output_type": "stream",
     "text": [
      "+-------------+-----------+------------+------------------+\n",
      "|trip_distance|day_of_week|total_amount|        prediction|\n",
      "+-------------+-----------+------------+------------------+\n",
      "|         13.9|   Saturday|         4.3| 128.5649686193176|\n",
      "|          3.3|     Sunday|         5.8|18.306511368188804|\n",
      "|          5.5|     Sunday|       26.75| 22.91940540741578|\n",
      "|          7.9|   Saturday|        30.3|  29.0141363365863|\n",
      "|          0.4|  Wednesday|         7.8|12.407297064995502|\n",
      "|          1.0|   Saturday|        11.8|12.989476879131605|\n",
      "|          1.3|   Saturday|       12.85|14.043332199411283|\n",
      "|          9.4|   Saturday|        39.8| 34.41571386022454|\n",
      "|          1.5|  Wednesday|        13.3|15.342927953668063|\n",
      "|          4.7|     Sunday|       26.15| 21.34015642997333|\n",
      "|          0.6|   Saturday|       11.75|13.326841158864733|\n",
      "|          1.1|    Tuesday|        11.8| 14.50709892088285|\n",
      "|          3.7|     Friday|       24.35|19.542350783223654|\n",
      "|          2.4|   Saturday|       14.75|15.872346910546216|\n",
      "|          2.5|   Saturday|        15.8|16.736285090950208|\n",
      "|          6.5|   Saturday|       32.75|25.631906931254555|\n",
      "|          4.0|   Thursday|        20.8| 19.95790512569706|\n",
      "|          1.1|     Friday|       14.15|13.150798118410055|\n",
      "|          2.4|    Tuesday|       18.35|15.755977907676803|\n",
      "|          3.6|     Friday|       21.35|  19.5360916279045|\n",
      "+-------------+-----------+------------+------------------+\n",
      "only showing top 20 rows\n",
      "\n"
     ]
    },
    {
     "name": "stderr",
     "output_type": "stream",
     "text": [
      "\r",
      "                                                                                \r"
     ]
    }
   ],
   "source": [
    "pred.select(['trip_distance', 'day_of_week', 'total_amount', 'prediction']).show()"
   ]
  },
  {
   "cell_type": "code",
   "execution_count": 34,
   "id": "1f216e23",
   "metadata": {},
   "outputs": [
    {
     "data": {
      "text/plain": [
       "5.703485487910037"
      ]
     },
     "execution_count": 34,
     "metadata": {},
     "output_type": "execute_result"
    }
   ],
   "source": [
    "model.summary.rootMeanSquaredError"
   ]
  },
  {
   "cell_type": "code",
   "execution_count": 35,
   "id": "cda63cad",
   "metadata": {},
   "outputs": [
    {
     "data": {
      "text/plain": [
       "0.8042133371871026"
      ]
     },
     "execution_count": 35,
     "metadata": {},
     "output_type": "execute_result"
    }
   ],
   "source": [
    "model.summary.r2"
   ]
  },
  {
   "cell_type": "code",
   "execution_count": 36,
   "id": "9d0f25d0",
   "metadata": {},
   "outputs": [
    {
     "name": "stderr",
     "output_type": "stream",
     "text": [
      "\r",
      "[Stage 3050:========================================================(1 + 0) / 1]\r",
      "\r",
      "                                                                                \r"
     ]
    }
   ],
   "source": [
    "model_dir = \"/Users/ji/data-engineering/01-spark/data/model\"\n",
    "model.save(model_dir)"
   ]
  },
  {
   "cell_type": "code",
   "execution_count": 37,
   "id": "8a83612e",
   "metadata": {},
   "outputs": [],
   "source": [
    "from pyspark.ml.regression import LinearRegressionModel"
   ]
  },
  {
   "cell_type": "code",
   "execution_count": 38,
   "id": "0f3b10aa",
   "metadata": {},
   "outputs": [],
   "source": [
    "lr_model = LinearRegressionModel().load(model_dir)"
   ]
  },
  {
   "cell_type": "code",
   "execution_count": 39,
   "id": "7beeb9ae",
   "metadata": {},
   "outputs": [],
   "source": [
    "preds = lr_model.transform(vtest_df)"
   ]
  },
  {
   "cell_type": "code",
   "execution_count": 40,
   "id": "0ba267d0",
   "metadata": {},
   "outputs": [
    {
     "name": "stdout",
     "output_type": "stream",
     "text": [
      "+---------------+------------------+-------------------+-------------+-----------+-----------+------------+----------------------+-------------------------+-----------------------+--------------------------+---------------+------------------+----------------------+----------------------+--------------------+--------------------+------------------+--------------------+--------------------+------------------+\n",
      "|passenger_count|pickup_location_id|dropoff_location_id|trip_distance|pickup_time|day_of_week|total_amount|pickup_location_id_idx|pickup_location_id_onehot|dropoff_location_id_idx|dropoff_location_id_onehot|day_of_week_idx|day_of_week_onehot|passenger_count_vector|passenger_count_scaled|trip_distance_vector|trip_distance_scaled|pickup_time_vector|  pickup_time_scaled|      feature_vector|        prediction|\n",
      "+---------------+------------------+-------------------+-------------+-----------+-----------+------------+----------------------+-------------------------+-----------------------+--------------------------+---------------+------------------+----------------------+----------------------+--------------------+--------------------+------------------+--------------------+--------------------+------------------+\n",
      "|            0.0|                 1|                  1|         13.9|          2|   Saturday|         4.3|                 183.0|        (263,[183],[1.0])|                   84.0|          (261,[84],[1.0])|            2.0|     (7,[2],[1.0])|                 [0.0]|                 [0.0]|              [13.9]| [3.636219547258273]|             [2.0]|[0.23711561007436...|(534,[183,347,526...| 128.5649686193176|\n",
      "|            0.0|                 4|                  4|          3.3|          3|     Sunday|         5.8|                  62.0|         (263,[62],[1.0])|                   49.0|          (261,[49],[1.0])|            5.0|     (7,[5],[1.0])|                 [0.0]|                 [0.0]|               [3.3]|[0.8632751443131151]|             [3.0]|[0.35567341511155...|(534,[62,312,529,...|18.306511368188804|\n",
      "|            0.0|                 4|                 75|          5.5|          0|     Sunday|       26.75|                  62.0|         (263,[62],[1.0])|                   19.0|          (261,[19],[1.0])|            5.0|     (7,[5],[1.0])|                 [0.0]|                 [0.0]|               [5.5]|[1.4387919071885253]|             [0.0]|               [0.0]|(534,[62,282,529,...| 22.91940540741578|\n",
      "|            0.0|                 4|                 75|          7.9|         10|   Saturday|        30.3|                  62.0|         (263,[62],[1.0])|                   19.0|          (261,[19],[1.0])|            2.0|     (7,[2],[1.0])|                 [0.0]|                 [0.0]|               [7.9]| [2.066628375779882]|            [10.0]|[1.1855780503718418]|(534,[62,282,526,...|  29.0141363365863|\n",
      "|            0.0|                 4|                 79|          0.4|          3|  Wednesday|         7.8|                  62.0|         (263,[62],[1.0])|                   18.0|          (261,[18],[1.0])|            3.0|     (7,[3],[1.0])|                 [0.0]|                 [0.0]|               [0.4]|[0.10463941143189...|             [3.0]|[0.35567341511155...|(534,[62,281,527,...|12.407297064995502|\n",
      "|            0.0|                 4|                107|          1.0|         10|   Saturday|        11.8|                  62.0|         (263,[62],[1.0])|                   17.0|          (261,[17],[1.0])|            2.0|     (7,[2],[1.0])|                 [0.0]|                 [0.0]|               [1.0]|[0.26159852857973...|            [10.0]|[1.1855780503718418]|(534,[62,280,526,...|12.989476879131605|\n",
      "|            0.0|                 4|                107|          1.3|          2|   Saturday|       12.85|                  62.0|         (263,[62],[1.0])|                   17.0|          (261,[17],[1.0])|            2.0|     (7,[2],[1.0])|                 [0.0]|                 [0.0]|               [1.3]|[0.34007808715365...|             [2.0]|[0.23711561007436...|(534,[62,280,526,...|14.043332199411283|\n",
      "|            0.0|                 4|                116|          9.4|          5|   Saturday|        39.8|                  62.0|         (263,[62],[1.0])|                   55.0|          (261,[55],[1.0])|            2.0|     (7,[2],[1.0])|                 [0.0]|                 [0.0]|               [9.4]|  [2.45902616864948]|             [5.0]|[0.5927890251859209]|(534,[62,318,526,...| 34.41571386022454|\n",
      "|            0.0|                 4|                125|          1.5|          0|  Wednesday|        13.3|                  62.0|         (263,[62],[1.0])|                   54.0|          (261,[54],[1.0])|            3.0|     (7,[3],[1.0])|                 [0.0]|                 [0.0]|               [1.5]|[0.3923977928695978]|             [0.0]|               [0.0]|(534,[62,317,527,...|15.342927953668063|\n",
      "|            0.0|                 4|                143|          4.7|         11|     Sunday|       26.15|                  62.0|         (263,[62],[1.0])|                   23.0|          (261,[23],[1.0])|            5.0|     (7,[5],[1.0])|                 [0.0]|                 [0.0]|               [4.7]|  [1.22951308432474]|            [11.0]|[1.3041358554090259]|(534,[62,286,529,...| 21.34015642997333|\n",
      "|            0.0|                 4|                148|          0.6|          7|   Saturday|       11.75|                  62.0|         (263,[62],[1.0])|                   39.0|          (261,[39],[1.0])|            2.0|     (7,[2],[1.0])|                 [0.0]|                 [0.0]|               [0.6]|[0.1569591171478391]|             [7.0]|[0.8299046352602892]|(534,[62,302,526,...|13.326841158864733|\n",
      "|            0.0|                 4|                148|          1.1|          4|    Tuesday|        11.8|                  62.0|         (263,[62],[1.0])|                   39.0|          (261,[39],[1.0])|            4.0|     (7,[4],[1.0])|                 [0.0]|                 [0.0]|               [1.1]|[0.2877583814377051]|             [4.0]|[0.4742312201487367]|(534,[62,302,528,...| 14.50709892088285|\n",
      "|            0.0|                 4|                163|          3.7|         17|     Friday|       24.35|                  62.0|         (263,[62],[1.0])|                   14.0|          (261,[14],[1.0])|            1.0|     (7,[1],[1.0])|                 [0.0]|                 [0.0]|               [3.7]| [0.967914555745008]|            [17.0]| [2.015482685632131]|(534,[62,277,525,...|19.542350783223654|\n",
      "|            0.0|                 4|                170|          2.4|         23|   Saturday|       14.75|                  62.0|         (263,[62],[1.0])|                    4.0|           (261,[4],[1.0])|            2.0|     (7,[2],[1.0])|                 [0.0]|                 [0.0]|               [2.4]|[0.6278364685913564]|            [23.0]| [2.726829515855236]|(534,[62,267,526,...|15.872346910546216|\n",
      "|            0.0|                 4|                170|          2.5|          8|   Saturday|        15.8|                  62.0|         (263,[62],[1.0])|                    4.0|           (261,[4],[1.0])|            2.0|     (7,[2],[1.0])|                 [0.0]|                 [0.0]|               [2.5]|[0.6539963214493296]|             [8.0]|[0.9484624402974734]|(534,[62,267,526,...|16.736285090950208|\n",
      "|            0.0|                 4|                179|          6.5|          8|   Saturday|       32.75|                  62.0|         (263,[62],[1.0])|                   82.0|          (261,[82],[1.0])|            2.0|     (7,[2],[1.0])|                 [0.0]|                 [0.0]|               [6.5]| [1.700390435768257]|             [8.0]|[0.9484624402974734]|(534,[62,345,526,...|25.631906931254555|\n",
      "|            0.0|                 4|                230|          4.0|         23|   Thursday|        20.8|                  62.0|         (263,[62],[1.0])|                   25.0|          (261,[25],[1.0])|            0.0|     (7,[0],[1.0])|                 [0.0]|                 [0.0]|               [4.0]|[1.0463941143189275]|            [23.0]| [2.726829515855236]|(534,[62,288,524,...| 19.95790512569706|\n",
      "|            0.0|                 4|                234|          1.1|         19|     Friday|       14.15|                  62.0|         (263,[62],[1.0])|                   12.0|          (261,[12],[1.0])|            1.0|     (7,[1],[1.0])|                 [0.0]|                 [0.0]|               [1.1]|[0.2877583814377051]|            [19.0]| [2.252598295706499]|(534,[62,275,525,...|13.150798118410055|\n",
      "|            0.0|                 4|                234|          2.4|         22|    Tuesday|       18.35|                  62.0|         (263,[62],[1.0])|                   12.0|          (261,[12],[1.0])|            4.0|     (7,[4],[1.0])|                 [0.0]|                 [0.0]|               [2.4]|[0.6278364685913564]|            [22.0]|[2.6082717108180518]|(534,[62,275,528,...|15.755977907676803|\n",
      "|            0.0|                 4|                237|          3.6|          8|     Friday|       21.35|                  62.0|         (263,[62],[1.0])|                    1.0|           (261,[1],[1.0])|            1.0|     (7,[1],[1.0])|                 [0.0]|                 [0.0]|               [3.6]|[0.9417547028870348]|             [8.0]|[0.9484624402974734]|(534,[62,264,525,...|  19.5360916279045|\n",
      "+---------------+------------------+-------------------+-------------+-----------+-----------+------------+----------------------+-------------------------+-----------------------+--------------------------+---------------+------------------+----------------------+----------------------+--------------------+--------------------+------------------+--------------------+--------------------+------------------+\n",
      "only showing top 20 rows\n",
      "\n"
     ]
    }
   ],
   "source": [
    "preds.show()"
   ]
  },
  {
   "cell_type": "code",
   "execution_count": null,
   "id": "a1b18982",
   "metadata": {},
   "outputs": [],
   "source": []
  }
 ],
 "metadata": {
  "kernelspec": {
   "display_name": "Python 3 (ipykernel)",
   "language": "python",
   "name": "python3"
  },
  "language_info": {
   "codemirror_mode": {
    "name": "ipython",
    "version": 3
   },
   "file_extension": ".py",
   "mimetype": "text/x-python",
   "name": "python",
   "nbconvert_exporter": "python",
   "pygments_lexer": "ipython3",
   "version": "3.9.12"
  }
 },
 "nbformat": 4,
 "nbformat_minor": 5
}
